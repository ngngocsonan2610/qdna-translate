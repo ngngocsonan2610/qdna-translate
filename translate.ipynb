{
 "cells": [
  {
   "cell_type": "code",
   "execution_count": null,
   "metadata": {},
   "outputs": [],
   "source": [
    "from googletrans import Translator"
   ]
  },
  {
   "cell_type": "code",
   "execution_count": null,
   "metadata": {},
   "outputs": [],
   "source": [
    "import pandas as pd"
   ]
  },
  {
   "cell_type": "code",
   "execution_count": null,
   "metadata": {
    "scrolled": true
   },
   "outputs": [],
   "source": [
    "!pip install flask-socketio"
   ]
  },
  {
   "cell_type": "code",
   "execution_count": null,
   "metadata": {},
   "outputs": [],
   "source": [
    "from flask_socketio import SocketIO"
   ]
  },
  {
   "cell_type": "code",
   "execution_count": null,
   "metadata": {},
   "outputs": [],
   "source": [
    "from googletrans import Translator\n",
    "\n",
    "def translate(eng_text):\n",
    "  '''\n",
    "  Translate from english to vnese\n",
    "  '''\n",
    "  language_code = 'vi'\n",
    "  translator = Translator(service_urls=[\n",
    "      'translate.google.com',\n",
    "      'translate.google.co.vi',    ])\n",
    "  translations = translator.translate(eng_text, dest= language_code)\n",
    "  \n",
    "  return translations.text"
   ]
  },
  {
   "cell_type": "code",
   "execution_count": null,
   "metadata": {},
   "outputs": [],
   "source": [
    "translate('Hi')\n"
   ]
  },
  {
   "cell_type": "code",
   "execution_count": null,
   "metadata": {},
   "outputs": [],
   "source": [
    "msg = {'from':['me'],\n",
    "      'data':['hi']}\n",
    "\n",
    "msg = pd.DataFrame(msg, columns = ['from', 'data'])"
   ]
  },
  {
   "cell_type": "code",
   "execution_count": null,
   "metadata": {},
   "outputs": [],
   "source": [
    "msg.from\n"
   ]
  },
  {
   "cell_type": "code",
   "execution_count": null,
   "metadata": {
    "scrolled": true
   },
   "outputs": [],
   "source": [
    "from flask import Flask,render_template, request\n",
    "\n",
    "\n",
    "app = Flask(__name__)\n",
    "app.config['SECRET_KEY'] = 'vnkdjnfjknfl1232#'\n",
    "socketio = SocketIO(app)\n",
    "\n",
    "@app.route(\"/\")\n",
    "def sessions():    \n",
    "    return render_template('trans.html')\n",
    "\n",
    "def messageReceived(methods=['GET', 'POST']):\n",
    "    print('message was received!!!')\n",
    "\n",
    "@socketio.on('my event')\n",
    "def handle_my_custom_event(json, methods=['GET', 'POST']):\n",
    "    print('received my event: ' + str(json))\n",
    "    socketio.emit('my response', json, callback=messageReceived)\n",
    "\n",
    "\n",
    "if __name__ == \"__main__\":\n",
    "    socketio.run(app, debug=True)"
   ]
  },
  {
   "cell_type": "code",
   "execution_count": null,
   "metadata": {},
   "outputs": [],
   "source": [
    "from flask import Flask, render_template\n",
    "from flask_socketio import SocketIO\n",
    "\n",
    "app = Flask(__name__)\n",
    "app.config['SECRET_KEY'] = 'vnkdaaadfnfl1232#'\n",
    "socketio = SocketIO(app)\n",
    "\n",
    "@app.route('/')\n",
    "def sessions():\n",
    "    return render_template('about.html')\n",
    "\n",
    "def messageReceived(methods=['GET', 'POST']):\n",
    "    print('message was received!!!')\n",
    "\n",
    "@socketio.on('my event')\n",
    "def handle_my_custom_event(json, methods=['GET', 'POST']):\n",
    "    print('received my event: ' + str(json))\n",
    "    socketio.emit('my response', json, callback=messageReceived)\n",
    "\n",
    "if __name__ == '__main__':\n",
    "    socketio.run(app, debug=True)"
   ]
  },
  {
   "cell_type": "code",
   "execution_count": null,
   "metadata": {},
   "outputs": [],
   "source": []
  },
  {
   "cell_type": "code",
   "execution_count": null,
   "metadata": {},
   "outputs": [],
   "source": [
    "from flask import Flask, render_template\n",
    "from flask_socketio import SocketIO, send\n",
    "\n",
    "app = Flask(__name__)\n",
    "app.config['SECRET_KEY'] = 'vnkdaaadfnfl1232#'\n",
    "socketio = SocketIO(app)\n",
    "\n",
    "@socketio.on('messages'):\n",
    "def trans(msg):\n",
    "    print('Message:' + msg)\n",
    "    \n",
    "\n",
    "if __name__ == '__main__':\n",
    "    socketio.run(app, debug=True)"
   ]
  },
  {
   "cell_type": "code",
   "execution_count": null,
   "metadata": {
    "scrolled": true
   },
   "outputs": [],
   "source": [
    "from flask import Flask, render_template\n",
    "from flask_socketio import SocketIO\n",
    "\n",
    "app = Flask(__name__)\n",
    "app.config['SECRET_KEY'] = 'vnkdjnfjknfl1232#'\n",
    "socketio = SocketIO(app)\n",
    "\n",
    "@app.route('/')\n",
    "def sessions():\n",
    "    return render_template('about.html')\n",
    "\n",
    "def messageReceived(methods=['GET', 'POST']):\n",
    "    print('message was received!!!')\n",
    "\n",
    "@socketio.on('my event')\n",
    "def handle_my_custom_event(json, methods=['GET', 'POST']):\n",
    "    print('received my event: ' + str(json))\n",
    "    socketio.emit('my response', json, callback=messageReceived)\n",
    "\n",
    "if __name__ == '__main__':\n",
    "    socketio.run(app)"
   ]
  },
  {
   "cell_type": "code",
   "execution_count": null,
   "metadata": {},
   "outputs": [
    {
     "name": "stdout",
     "output_type": "stream",
     "text": [
      "Message: hello world\n",
      "Trans: Chào thế giới\n"
     ]
    }
   ],
   "source": [
    "from googletrans import Translator\n",
    "\n",
    "def translate(eng_text):\n",
    "  '''\n",
    "  Translate from english to vnese\n",
    "  '''\n",
    "  language_code = 'vi'\n",
    "  translator = Translator(service_urls=[\n",
    "      'translate.google.com',\n",
    "      'translate.google.co.vi',    ])\n",
    "  translations = translator.translate(eng_text, dest= language_code)\n",
    "  \n",
    "  return translations.text\n",
    "\n",
    "from flask import Flask , render_template\n",
    "from flask_socketio import SocketIO, send\n",
    "\n",
    "app = Flask(__name__)\n",
    "app.config['SECRET_KEY'] = 'mysecret'\n",
    "socketio = SocketIO(app)\n",
    "\n",
    "@app.route('/')\n",
    "def sessions():\n",
    "    return render_template('about2.html')\n",
    "\n",
    "@socketio.on('message')\n",
    "def transMessage(msg):\n",
    "    msgme = msg\n",
    "    msgbot = translate(msg)\n",
    "    print('Message: ' + msgme)    \n",
    "    print('Trans: ' + msgbot)    \n",
    "    send(msgbot,broadcast=True)\n",
    "\n",
    "if __name__ == '__main__':\n",
    "    socketio.run(app)"
   ]
  },
  {
   "cell_type": "code",
   "execution_count": null,
   "metadata": {},
   "outputs": [],
   "source": [
    "from googletrans import Translator\n",
    "\n",
    "def translate(eng_text):\n",
    "  '''\n",
    "  Translate from english to vnese\n",
    "  '''\n",
    "  language_code = 'vi'\n",
    "  translator = Translator(service_urls=[\n",
    "      'translate.google.com',\n",
    "      'translate.google.co.vi',    ])\n",
    "  translations = translator.translate(eng_text, dest= language_code)\n",
    "  \n",
    "  return translations.text\n",
    "\n",
    "from flask import Flask , render_template\n",
    "from flask_socketio import SocketIO, send\n",
    "\n",
    "app = Flask(__name__)\n",
    "app.config['SECRET_KEY'] = 'mysecret'\n",
    "socketio = SocketIO(app)\n",
    "\n",
    "@app.route('/')\n",
    "def sessions():\n",
    "    return render_template('trans2.html')\n",
    "\n",
    "@socketio.on('message')\n",
    "def handleMessage(msg):\n",
    "    msgme = msg\n",
    "    msgbot = translate(msg)\n",
    "    print('Message: ' + msg)\n",
    "    \n",
    "    print('Trans: ' + msgbot)\n",
    "\n",
    "    send(msgme, msgbot,broadcast=True)\n",
    "\n",
    "if __name__ == '__main__':\n",
    "    socketio.run(app)"
   ]
  },
  {
   "cell_type": "code",
   "execution_count": null,
   "metadata": {},
   "outputs": [],
   "source": [
    "import pandas as pd\n",
    "msg = pd.DataFrame()"
   ]
  },
  {
   "cell_type": "code",
   "execution_count": null,
   "metadata": {},
   "outputs": [],
   "source": [
    "msg = {'mfrom' : ['me','bot'],\n",
    "      'data': ['a','b']}\n",
    "\n"
   ]
  },
  {
   "cell_type": "code",
   "execution_count": null,
   "metadata": {},
   "outputs": [],
   "source": [
    "msg= pd.DataFrame(msg)\n"
   ]
  },
  {
   "cell_type": "code",
   "execution_count": null,
   "metadata": {},
   "outputs": [],
   "source": [
    "msg"
   ]
  },
  {
   "cell_type": "code",
   "execution_count": null,
   "metadata": {},
   "outputs": [],
   "source": [
    "msg.mfrom == 'me'"
   ]
  },
  {
   "cell_type": "code",
   "execution_count": null,
   "metadata": {},
   "outputs": [],
   "source": [
    "if msg.mfrom == 'me':\n",
    "    print(msg.data)"
   ]
  }
 ],
 "metadata": {
  "kernelspec": {
   "display_name": "Python 3",
   "language": "python",
   "name": "python3"
  },
  "language_info": {
   "codemirror_mode": {
    "name": "ipython",
    "version": 3
   },
   "file_extension": ".py",
   "mimetype": "text/x-python",
   "name": "python",
   "nbconvert_exporter": "python",
   "pygments_lexer": "ipython3",
   "version": "3.6.6"
  }
 },
 "nbformat": 4,
 "nbformat_minor": 2
}
